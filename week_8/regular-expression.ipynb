{
 "cells": [
  {
   "cell_type": "markdown",
   "metadata": {},
   "source": [
    "# Regular Expression\n",
    "\n",
    "Regular expression allows us to look for a certain pattern in a text. \n",
    "Functions in re Module\n",
    "To find a pattern we use different set of re character sets that allows to search for a match in a string.\n",
    "\n",
    "- re.match(): searches only in the beginning of the first line of the string and returns matched objects if found, else returns none.\n",
    "- re.search: Returns a match object if there is one anywhere in the string, including multiline strings.\n",
    "- re.findall: Returns a list containing all matches\n",
    "- re.split: Takes a string, splits it at the match points, returns a list\n",
    "- re.sub: Replaces one or many matches within a string"
   ]
  },
  {
   "cell_type": "code",
   "execution_count": 84,
   "metadata": {},
   "outputs": [],
   "source": [
    "import re"
   ]
  },
  {
   "cell_type": "code",
   "execution_count": 25,
   "metadata": {},
   "outputs": [],
   "source": [
    "txt = 'Eero love to teach python and javaScript.'"
   ]
  },
  {
   "cell_type": "markdown",
   "metadata": {},
   "source": [
    "### match"
   ]
  },
  {
   "cell_type": "code",
   "execution_count": 26,
   "metadata": {},
   "outputs": [
    {
     "name": "stdout",
     "output_type": "stream",
     "text": [
      "<re.Match object; span=(0, 4), match='Eero'>\n",
      "(0, 4)\n",
      "0 4\n",
      "Eero\n"
     ]
    }
   ],
   "source": [
    "pattern = 'Eero'\n",
    "match = re.match(pattern, txt, re.I)\n",
    "print(match)\n",
    "\n",
    "span = match.span()\n",
    "print(span)\n",
    "start, end = span\n",
    "print(start, end)\n",
    "print(txt[start:end])"
   ]
  },
  {
   "cell_type": "markdown",
   "metadata": {},
   "source": [
    "## Search"
   ]
  },
  {
   "cell_type": "code",
   "execution_count": 35,
   "metadata": {},
   "outputs": [
    {
     "data": {
      "text/plain": [
       "<re.Match object; span=(140, 146), match='python'>"
      ]
     },
     "execution_count": 35,
     "metadata": {},
     "output_type": "execute_result"
    }
   ],
   "source": [
    "\n",
    "txt = '''Python is the most beautiful language that a human being has ever created.\n",
    "I recommend pythonista for a first programming language. I teach python and think and dream python.'''\n",
    "\n",
    "re.search(r'python', txt)"
   ]
  },
  {
   "cell_type": "code",
   "execution_count": 37,
   "metadata": {},
   "outputs": [],
   "source": [
    "txt = 'I like to break something. I do not know if breaking is interesting or not'"
   ]
  },
  {
   "cell_type": "code",
   "execution_count": 45,
   "metadata": {},
   "outputs": [
    {
     "data": {
      "text/plain": [
       "['break']"
      ]
     },
     "execution_count": 45,
     "metadata": {},
     "output_type": "execute_result"
    }
   ],
   "source": [
    "re.findall(r'\\bbreak\\b', txt)"
   ]
  },
  {
   "cell_type": "markdown",
   "metadata": {},
   "source": [
    "## Find all"
   ]
  },
  {
   "cell_type": "code",
   "execution_count": 55,
   "metadata": {},
   "outputs": [],
   "source": [
    "txt = '''I love to teach. The love of teaching is driving me crazy. \n",
    "Specially, I love to teach Python and JavaScript.\n",
    "Love is the best thing in this world.If you love python or javaScript, you will solve quite a lot of world problem.'''"
   ]
  },
  {
   "cell_type": "code",
   "execution_count": 61,
   "metadata": {},
   "outputs": [
    {
     "data": {
      "text/plain": [
       "['love', 'love', 'love', 'Love', 'love']"
      ]
     },
     "execution_count": 61,
     "metadata": {},
     "output_type": "execute_result"
    }
   ],
   "source": [
    "pattern = '[lL]ove'\n",
    "# pattern = r'love|python|javascrip'\n",
    "re.findall(pattern, txt)"
   ]
  },
  {
   "cell_type": "code",
   "execution_count": 62,
   "metadata": {},
   "outputs": [
    {
     "data": {
      "text/plain": [
       "['I',\n",
       " 'love',\n",
       " 'to',\n",
       " 'teach.',\n",
       " 'The',\n",
       " 'love',\n",
       " 'of',\n",
       " 'teaching',\n",
       " 'is',\n",
       " 'driving',\n",
       " 'me',\n",
       " 'crazy.',\n",
       " '\\nSpecially,',\n",
       " 'I',\n",
       " 'love',\n",
       " 'to',\n",
       " 'teach',\n",
       " 'Python',\n",
       " 'and',\n",
       " 'JavaScript.\\nLove',\n",
       " 'is',\n",
       " 'the',\n",
       " 'best',\n",
       " 'thing',\n",
       " 'in',\n",
       " 'this',\n",
       " 'world.If',\n",
       " 'you',\n",
       " 'love',\n",
       " 'python',\n",
       " 'or',\n",
       " 'javaScript,',\n",
       " 'you',\n",
       " 'will',\n",
       " 'solve',\n",
       " 'quite',\n",
       " 'a',\n",
       " 'lot',\n",
       " 'of',\n",
       " 'world',\n",
       " 'problem.']"
      ]
     },
     "execution_count": 62,
     "metadata": {},
     "output_type": "execute_result"
    }
   ],
   "source": [
    "\n",
    "re.split(' ', txt)"
   ]
  },
  {
   "cell_type": "markdown",
   "metadata": {},
   "source": [
    "## Split"
   ]
  },
  {
   "cell_type": "code",
   "execution_count": 67,
   "metadata": {},
   "outputs": [
    {
     "data": {
      "text/plain": [
       "['I love to teach',\n",
       " ' The love of teaching is driving me crazy',\n",
       " ' \\nSpecially, I love to teach Python and JavaScript',\n",
       " '\\nLove is the best thing in this world',\n",
       " 'If you love python or javaScript, you will solve quite a lot of world problem',\n",
       " '']"
      ]
     },
     "execution_count": 67,
     "metadata": {},
     "output_type": "execute_result"
    }
   ],
   "source": [
    "\n",
    "re.split(r'\\.', txt)"
   ]
  },
  {
   "cell_type": "code",
   "execution_count": 68,
   "metadata": {},
   "outputs": [],
   "source": [
    "# How do you make a sentence ? full stop, ?, !, "
   ]
  },
  {
   "cell_type": "markdown",
   "metadata": {},
   "source": [
    "## Substitute"
   ]
  },
  {
   "cell_type": "code",
   "execution_count": 69,
   "metadata": {},
   "outputs": [],
   "source": [
    "txt = '''I love to teach. The love of teaching is driving me crazy. \n",
    "Specially, I love to teach Python and JavaScript.\n",
    "Love is the best thing in this world.If you love python or javaScript, you will solve quite a lot of world problem.'''"
   ]
  },
  {
   "cell_type": "code",
   "execution_count": 71,
   "metadata": {},
   "outputs": [
    {
     "data": {
      "text/plain": [
       "'I hate to teach. The hate of teaching is driving me crazy. \\nSpecially, I hate to teach Python and JavaScript.\\nhate is the best thing in this world.If you hate python or javaScript, you will solve quite a lot of world problem.'"
      ]
     },
     "execution_count": 71,
     "metadata": {},
     "output_type": "execute_result"
    }
   ],
   "source": [
    "re.sub(r'[lL]ove', 'hate', txt)"
   ]
  },
  {
   "cell_type": "code",
   "execution_count": 81,
   "metadata": {},
   "outputs": [
    {
     "data": {
      "text/plain": [
       "['I ',\n",
       " ' to teach. The ',\n",
       " ' of teaching is driving me crazy. \\nSpecially, I ',\n",
       " ' to teach ',\n",
       " ' and ',\n",
       " '.\\n',\n",
       " ' is the best thing in this world.If you ',\n",
       " ' python or ',\n",
       " ', you will solve quite a lot of world problem.']"
      ]
     },
     "execution_count": 81,
     "metadata": {},
     "output_type": "execute_result"
    }
   ],
   "source": [
    "re.split(r'[lL]ove|Python|[jJ]avaScript', txt)"
   ]
  },
  {
   "cell_type": "code",
   "execution_count": 83,
   "metadata": {},
   "outputs": [
    {
     "data": {
      "text/plain": [
       "'I love to teach. The love of teaching is driving me crazy. \\nSpecially, I love to teach Python and JavaScript.\\nLove is the best thing in this world.If you love python or javaScript, you will solve quite a lot of world problem.'"
      ]
     },
     "execution_count": 83,
     "metadata": {},
     "output_type": "execute_result"
    }
   ],
   "source": [
    "txt.replace(r'[Ll]ove', 'hate')"
   ]
  },
  {
   "cell_type": "code",
   "execution_count": null,
   "metadata": {},
   "outputs": [],
   "source": [
    "# The difference between string split method and regular expression split method takes pattern"
   ]
  }
 ],
 "metadata": {
  "kernelspec": {
   "display_name": "Python 3",
   "language": "python",
   "name": "python3"
  },
  "language_info": {
   "codemirror_mode": {
    "name": "ipython",
    "version": 3
   },
   "file_extension": ".py",
   "mimetype": "text/x-python",
   "name": "python",
   "nbconvert_exporter": "python",
   "pygments_lexer": "ipython3",
   "version": "3.8.5"
  }
 },
 "nbformat": 4,
 "nbformat_minor": 4
}
